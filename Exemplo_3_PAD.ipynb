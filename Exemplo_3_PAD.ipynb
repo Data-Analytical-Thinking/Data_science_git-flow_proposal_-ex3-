{
  "cells": [
    {
      "cell_type": "code",
      "execution_count": null,
      "metadata": {
        "id": "WFzKVpdfre5g"
      },
      "outputs": [],
      "source": [
        "import pandas as pd\n",
        "import numpy as np\n",
        "import matplotlib.pyplot as plt\n",
        "import plotly.express as px\n",
        "import seaborn as sns\n",
        "%matplotlib inline\n",
        "sns.set_style('darkgrid')"
      ]
    },
    {
      "cell_type": "code",
      "execution_count": null,
      "metadata": {
        "id": "JTnRytm3w5VG"
      },
      "outputs": [],
      "source": [
        "#%% [code]\n",
        "###COVID DATA\n",
        "## Retreving Data\n",
        "# Assigning Github URLs\n",
        "cases_url=\"https://raw.githubusercontent.com/CSSEGISandData/COVID-19/master/csse_covid_19_data/csse_covid_19_time_series/time_series_covid19_confirmed_global.csv\"\n",
        "deaths_url=\"https://raw.githubusercontent.com/CSSEGISandData/COVID-19/master/csse_covid_19_data/csse_covid_19_time_series/time_series_covid19_deaths_global.csv\"\n",
        "# recovered_url=\"https://raw.githubusercontent.com/CSSEGISandData/COVID-19/master/csse_covid_19_data/csse_covid_19_time_series/time_series_covid19_recovered_global.csv\"\n",
        "\n",
        "# Reading URLs through Pandas liberary\n",
        "total_cases = pd.read_csv(cases_url)\n",
        "total_deaths = pd.read_csv(deaths_url)\n",
        "# total_recovered = pd.read_csv(recovered_url)\n",
        "\n",
        "## Cleaning Data\n",
        "# Extreacting and storing column dates in dates\n",
        "dates = total_cases.columns[4:]\n",
        "\n",
        "# Reshaping total cases column from wide shape to df shape\n",
        "total_cases_df = total_cases.melt(\n",
        "    id_vars=['Province/State', 'Country/Region', 'Lat', 'Long'], \n",
        "    value_vars=dates, \n",
        "    var_name='Date', \n",
        "    value_name='Confirmed'\n",
        "    )\n",
        "\n",
        "# Reshaping total deaths column from wide shape to df shape\n",
        "total_deaths_df = total_deaths.melt(\n",
        "    id_vars=['Province/State', 'Country/Region', 'Lat', 'Long'], \n",
        "    value_vars=dates, \n",
        "    var_name='Date', \n",
        "    value_name='Deaths'\n",
        "    )\n",
        "\n",
        "# # Reshaping total recovered column from wide shape to df shape\n",
        "# total_recovered_df = total_recovered.melt(\n",
        "#     id_vars=['Province/State', 'Country/Region', 'Lat', 'Long'], \n",
        "#     value_vars=dates, \n",
        "#     var_name='Date', \n",
        "#     value_name='Recovered'\n",
        "# )\n",
        "\n",
        "# Merging total_cases_df and total_deaths_df\n",
        "covid_df = total_cases_df.merge(\n",
        "  right=total_deaths_df, \n",
        "  how='left',\n",
        "  on=['Province/State', 'Country/Region', 'Date', 'Lat', 'Long']\n",
        ")\n",
        "\n",
        "# # Merging covid_df and total_recovered_df\n",
        "# covid_df = covid_df.merge(\n",
        "#   right=total_recovered_df, \n",
        "#   how='left',\n",
        "#   on=['Province/State', 'Country/Region', 'Date', 'Lat', 'Long']\n",
        "# )\n",
        "\n",
        "# Converting Date to proper datetime format\n",
        "covid_df[\"Date\"] = pd.to_datetime(covid_df[\"Date\"])\n",
        "\n",
        "# Inserting converted date to full table\n",
        "covid_df = covid_df.sort_values(['Country/Region', 'Date'])\n",
        "#covid_df = covid_df.sort_values(['Country/Region', 'Date'], ascending=[True, True])\n",
        "# Reseting Index\n",
        "# covid_df = covid_df.reset_index()\n",
        "\n",
        "# Copying covid_df to covid_df\n",
        "#covid_df = covid_df.copy()\n",
        "\n",
        "# Renaming column names\n",
        "covid_df = covid_df.rename(columns={'Country/Region': 'country',\n",
        "                                    'Province/State':'province',\n",
        "                                    'Confirmed': 'total_cases',\n",
        "                                    'Deaths': 'total_deaths',\n",
        "                                    'Date':'date'})\n",
        "\n",
        "# Filling NaN value of provinve with country name and storing it in coiuntry column\n",
        "covid_df[\"province\"] = covid_df[\"province\"].fillna(covid_df[\"country\"])\n",
        "covid_df[\"country\"] = covid_df[\"province\"]\n",
        "\n",
        "# Adding New cases, New deaths, New recovered to covid_df\n",
        "covid_df[\"daily_cases\"] = covid_df.groupby('country')['total_cases'].diff().fillna(0)\n",
        "covid_df[\"daily_deaths\"] = covid_df.groupby('country')['total_deaths'].diff().fillna(0)\n",
        "# covid_df[\"New recovered\"] = covid_df.groupby('country')['Total recovered'].diff().fillna(0)\n",
        "\n",
        "# Converting float value to int in covid_df columns\n",
        "# covid_df[\"Total recovered\"] = covid_df[\"Total recovered\"].fillna(0)\n",
        "# covid_df[\"Total recovered\"] = covid_df[\"Total recovered\"].astype(int).fillna(0)\n",
        "covid_df[\"daily_cases\"] = covid_df[\"daily_cases\"].astype(int)\n",
        "covid_df[\"daily_deaths\"] = covid_df[\"daily_deaths\"].astype(int)\n",
        "# covid_df[\"New recovered\"] = covid_df[\"New recovered\"].astype(int)\n",
        "\n",
        "# Arranging Columns\n",
        "covid_df = covid_df[['date', 'province', 'country','Lat','Long',\n",
        " 'total_cases', 'total_deaths', 'daily_cases','daily_deaths']]\n",
        "\n",
        "# Removind unnecessary columns\n",
        "covid_df = covid_df.drop(['province', 'Lat', 'Long'],axis=1)\n",
        "\n",
        "# Removing unnecessary spaces and making all columns in lowercase\n",
        "covid_df.country = covid_df.country.str.lower().str.strip()\n",
        "\n",
        "# Reseting jumbled index in order\n",
        "covid_df = covid_df.reset_index(drop=True)\n"
      ]
    },
    {
      "cell_type": "code",
      "execution_count": null,
      "metadata": {
        "id": "apl6pXQSvtA3"
      },
      "outputs": [],
      "source": [
        "###VACCINE DATA\n",
        "## Atribuindo URLs do GitHub\n",
        "vaccine_data = pd.read_csv('https://raw.githubusercontent.com/owid/covid-19-data/master/public/data/vaccinations/vaccinations.csv')\n",
        "vaccine_data['date']=pd.to_datetime(vaccine_data.date)\n",
        "\n",
        "#Mudança no formato de dados\n",
        "vaccine_data['date'] = pd.to_datetime(vaccine_data['date'],format='%y-%m-%d').dt.date\n",
        "\n",
        "#Descartando os dados desnecessários para a analise\n",
        "vaccine_data.drop(['total_vaccinations_per_hundred',\n",
        "                   'iso_code',\n",
        "                   'people_vaccinated_per_hundred',\n",
        "                   'people_fully_vaccinated_per_hundred',\n",
        "                   'daily_vaccinations_per_million',\n",
        "                   'daily_vaccinations_raw',\n",
        "                   'total_vaccinations',\n",
        "                   'people_vaccinated',\n",
        "                   'daily_people_vaccinated_per_hundred',\n",
        "                   'total_boosters_per_hundred'], inplace=True, axis=1)\n",
        "\n",
        "\n",
        "#Adicionando a coluna de vacinação total \n",
        "Total_vaccinations = vaccine_data.groupby('location')['daily_vaccinations'].cumsum()\n",
        "vaccine_data.insert(5,'Total_vaccinations',Total_vaccinations)\n",
        "\n",
        "#Renomeando as colunas\n",
        "vaccine_df = vaccine_data.rename(columns={'location': 'country',\n",
        "                                    # 'date':'Date',\n",
        "                                    'people_fully_vaccinated': 'fully_vaccinated',\n",
        "                                    # 'total_boosters': 'Total boosters',\n",
        "                                    'Total_vaccinations':'total_vaccinations',\n",
        "                                    # 'daily_vaccinations': 'Daily vaccinations',\n",
        "                                    # 'daily_people_vaccinated': 'Daily people vaccinated'})\n",
        "                                    })\n",
        "#Organizando as colunas\n",
        "vaccine_df = vaccine_df[['date',\n",
        "                         'country',\n",
        "                         \"fully_vaccinated\",\n",
        "                         'total_vaccinations',\n",
        "                         'total_boosters',\n",
        "                         'daily_vaccinations',\n",
        "                         'daily_people_vaccinated']]\n",
        "\n",
        "# Convertendo a data para o formato de data e hora convencionais\n",
        "vaccine_df[\"date\"] = pd.to_datetime(vaccine_df[\"date\"])\n",
        "vaccine_df = vaccine_df.fillna(0)\n",
        "vaccine_df = vaccine_df.astype({\"fully_vaccinated\":'int',\n",
        "                                'total_vaccinations':'int',\n",
        "                                'total_boosters':'int',\n",
        "                                'daily_vaccinations':'int',\n",
        "                                'daily_people_vaccinated':'int'})\n",
        "\n",
        "# Removendo espaços desnecessários  \n",
        "vaccine_df.country = vaccine_df.country.str.lower().str.strip()"
      ]
    },
    {
      "cell_type": "code",
      "execution_count": null,
      "metadata": {
        "id": "By-vkdYFwNnh"
      },
      "outputs": [],
      "source": [
        "df = pd.merge(covid_df, vaccine_df, how=\"outer\", on=[\"date\", \"country\"])\n",
        "df.fillna(0,inplace=True)"
      ]
    },
    {
      "cell_type": "code",
      "execution_count": null,
      "metadata": {
        "id": "6vQ9s2aXwS3I"
      },
      "outputs": [],
      "source": [
        "def plot_treemap(col):\n",
        "    fig = px.treemap(df, path=[\"country\"], values=col, height=700,\n",
        "                 title=col, color_discrete_sequence = px.colors.qualitative.Dark2)\n",
        "    fig.data[0].textinfo = 'label+text+value'\n",
        "    fig.show()"
      ]
    },
    {
      "cell_type": "markdown",
      "metadata": {
        "id": "y7YFGDyr034I"
      },
      "source": [
        "# Total de casos de covid em cada país do mundo"
      ]
    },
    {
      "cell_type": "code",
      "execution_count": null,
      "metadata": {
        "colab": {
          "base_uri": "https://localhost:8080/",
          "height": 717
        },
        "id": "YJILiJy0wUDX",
        "outputId": "335cdac8-655a-418f-8362-50238f6947c5"
      },
      "outputs": [],
      "source": [
        "plot_treemap('total_cases')"
      ]
    },
    {
      "cell_type": "markdown",
      "metadata": {
        "id": "NwSfJd7B1X1O"
      },
      "source": [
        "# Total de vacinações por país \n"
      ]
    },
    {
      "cell_type": "code",
      "execution_count": null,
      "metadata": {
        "colab": {
          "base_uri": "https://localhost:8080/",
          "height": 717
        },
        "id": "oCwffzIaweOW",
        "outputId": "62105a27-c21c-45ab-e496-4b9dd649bddc"
      },
      "outputs": [],
      "source": [
        "plot_treemap('total_vaccinations')"
      ]
    },
    {
      "cell_type": "markdown",
      "metadata": {
        "id": "m2iPpNib1kpX"
      },
      "source": [
        "# Total de mortes por covid em cada país "
      ]
    },
    {
      "cell_type": "code",
      "execution_count": null,
      "metadata": {
        "colab": {
          "base_uri": "https://localhost:8080/",
          "height": 717
        },
        "id": "JJwR3w_WwmH6",
        "outputId": "d9045479-0249-4114-b9c2-cc8bd6b42f7a"
      },
      "outputs": [],
      "source": [
        "plot_treemap('total_deaths')"
      ]
    },
    {
      "cell_type": "code",
      "execution_count": null,
      "metadata": {
        "colab": {
          "base_uri": "https://localhost:8080/",
          "height": 678
        },
        "id": "l6TDEzqsxIPj",
        "outputId": "c289155a-b007-4b26-932d-17cda5145005"
      },
      "outputs": [],
      "source": [
        "world = df[df.country==''].tail(1)\n",
        "con = list(df.country.unique())\n",
        "for x in con:\n",
        "  world = world.append(df[df.country==x].tail(1), ignore_index=True)\n",
        "world"
      ]
    },
    {
      "cell_type": "code",
      "execution_count": null,
      "metadata": {
        "id": "OXGcf345yFJz"
      },
      "outputs": [],
      "source": [
        "def plot_hbar(df, col, n, hover_data=[]):\n",
        "  \n",
        "    fig = px.bar(df.sort_values(col).tail(n), \n",
        "                 x=col, y=\"country\", color='country',  \n",
        "                 text=col, orientation='h', width=700, hover_data=hover_data,\n",
        "                 color_discrete_sequence = px.colors.qualitative.Dark2)\n",
        "    \n",
        "    fig.update_layout(title=col, xaxis_title=\"\", yaxis_title=\"\", \n",
        "                      yaxis_categoryorder = 'total ascending',\n",
        "                      uniformtext_minsize=8, uniformtext_mode='hide')\n",
        "    \n",
        "    fig.show()"
      ]
    },
    {
      "cell_type": "markdown",
      "metadata": {
        "id": "Nc4qsp3O2VNC"
      },
      "source": [
        "# Os 15 países com mais casos de covid no mundo"
      ]
    },
    {
      "cell_type": "code",
      "execution_count": null,
      "metadata": {
        "colab": {
          "base_uri": "https://localhost:8080/",
          "height": 542
        },
        "id": "b8h3NewcyG06",
        "outputId": "81739d2a-e97c-447d-c380-670fb12e8f8c"
      },
      "outputs": [],
      "source": [
        "plot_hbar(world, 'total_cases', 15)"
      ]
    },
    {
      "cell_type": "markdown",
      "metadata": {
        "id": "AfCuCVXM2oKm"
      },
      "source": [
        "# Usando o Brasil como exemplo de analise"
      ]
    },
    {
      "cell_type": "code",
      "execution_count": null,
      "metadata": {
        "colab": {
          "base_uri": "https://localhost:8080/",
          "height": 542
        },
        "id": "eJJI8nR1ycfC",
        "outputId": "4dd3a7bd-39c1-45e1-f231-6bd42c0faf52"
      },
      "outputs": [],
      "source": [
        "fig = px.line(df[df.country=='brazil'],x='date', y=df[df.country=='brazil'].columns[2], title=\"Casos de covid no Brasil\")\n",
        "fig.show()"
      ]
    },
    {
      "cell_type": "code",
      "execution_count": null,
      "metadata": {
        "colab": {
          "base_uri": "https://localhost:8080/",
          "height": 542
        },
        "id": "aSC_0GMSyj40",
        "outputId": "8241d736-c9cc-40bd-a745-ce2530367668"
      },
      "outputs": [],
      "source": [
        "fig = px.line(df[df.country=='brazil'],x='date', y=df[df.country=='brazil'].columns[9:11], title=\"Vacinação na Brasil\")\n",
        "fig.show()\n"
      ]
    },
    {
      "cell_type": "code",
      "execution_count": null,
      "metadata": {
        "colab": {
          "base_uri": "https://localhost:8080/",
          "height": 542
        },
        "id": "LcZVDe9z4TTy",
        "outputId": "c1305bf8-675e-4a7a-844c-a8251ab8fc01"
      },
      "outputs": [],
      "source": [
        "fig = px.line(df[df.country=='brazil'],x='date', y=df[df.country=='brazil'].columns[2:8],title=\"Dados do Brasil\")\n",
        "fig.show()"
      ]
    }
  ],
  "metadata": {
    "colab": {
      "name": "Exemplo 3  PAD",
      "provenance": []
    },
    "kernelspec": {
      "display_name": "Python 3",
      "name": "python3"
    },
    "language_info": {
      "name": "python"
    }
  },
  "nbformat": 4,
  "nbformat_minor": 0
}
